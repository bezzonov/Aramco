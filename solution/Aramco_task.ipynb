{
  "nbformat": 4,
  "nbformat_minor": 0,
  "metadata": {
    "colab": {
      "provenance": []
    },
    "kernelspec": {
      "name": "python3",
      "display_name": "Python 3"
    },
    "language_info": {
      "name": "python"
    }
  },
  "cells": [
    {
      "cell_type": "markdown",
      "source": [
        "## Importing"
      ],
      "metadata": {
        "id": "SzJ3AZ_RtOzm"
      }
    },
    {
      "cell_type": "code",
      "execution_count": 3,
      "metadata": {
        "id": "PF6PLs-StI-4"
      },
      "outputs": [],
      "source": [
        "# Need to install technologies below for local usage in Colab.\n",
        "# !pip install torchmetrics\n",
        "# !pip install catboost"
      ]
    },
    {
      "cell_type": "code",
      "source": [
        "import pandas as pd\n",
        "import numpy as np\n",
        "import torch\n",
        "import warnings\n",
        "\n",
        "from sklearn.model_selection import train_test_split\n",
        "from sklearn.multioutput import MultiOutputRegressor\n",
        "from sklearn.neighbors import KNeighborsRegressor\n",
        "from sklearn.linear_model import LinearRegression\n",
        "from sklearn.tree import DecisionTreeRegressor\n",
        "from torchmetrics import MultioutputWrapper, R2Score\n",
        "\n",
        "from sklearn.preprocessing import StandardScaler\n",
        "from sklearn.preprocessing import MinMaxScaler\n",
        "\n",
        "from sklearn.metrics import mean_squared_error\n",
        "from sklearn.metrics import mean_absolute_error\n",
        "from catboost import CatBoostRegressor\n",
        "\n",
        "import matplotlib.pyplot as plt\n",
        "import seaborn as sns"
      ],
      "metadata": {
        "id": "eVDdXDrct8Os"
      },
      "execution_count": 4,
      "outputs": []
    },
    {
      "cell_type": "markdown",
      "source": [
        "## Data Loading"
      ],
      "metadata": {
        "id": "oUOkD4ewvVOk"
      }
    },
    {
      "cell_type": "code",
      "source": [
        "train_data = pd.read_csv('train.csv')\n",
        "test_data = pd.read_csv('test.csv')"
      ],
      "metadata": {
        "id": "9CFAe7xbvSDh"
      },
      "execution_count": 5,
      "outputs": []
    },
    {
      "cell_type": "markdown",
      "source": [
        "## Data Preprocessing"
      ],
      "metadata": {
        "id": "gA5Udah7v5g5"
      }
    },
    {
      "cell_type": "code",
      "source": [
        "print('train: ',train_data.shape)\n",
        "print('test: ',test_data.shape)"
      ],
      "metadata": {
        "colab": {
          "base_uri": "https://localhost:8080/"
        },
        "id": "fAnxAC2DvvFG",
        "outputId": "c4b8fff3-c9f4-4f42-f899-1f24ef88ad6f"
      },
      "execution_count": 6,
      "outputs": [
        {
          "output_type": "stream",
          "name": "stdout",
          "text": [
            "train:  (455, 222)\n",
            "test:  (100, 20)\n"
          ]
        }
      ]
    },
    {
      "cell_type": "code",
      "source": [
        "train_data.head()"
      ],
      "metadata": {
        "colab": {
          "base_uri": "https://localhost:8080/",
          "height": 300
        },
        "id": "Mt2ZAaM9wBr1",
        "outputId": "ea9528b2-4157-4f4a-9f06-f79872c8d1b3"
      },
      "execution_count": 7,
      "outputs": [
        {
          "output_type": "execute_result",
          "data": {
            "text/plain": [
              "   group  sample        depth        por       den         ct_1         ct_2  \\\n",
              "0      3      52  1660.178974  18.556209  2.740942  1971.579998  2396.714551   \n",
              "1      4      92  3890.779426   8.555400  2.834776  2513.180531  3001.782975   \n",
              "2      3      90  2287.441253  -0.169935  2.761468  2274.773580  1083.899155   \n",
              "3      3      49  2144.788740  28.192998  2.637605  1776.270868  2374.721334   \n",
              "4      2      65  3754.453151   4.136069  2.900202  1787.771840  1893.016733   \n",
              "\n",
              "          ct_3         ct_4         ct_5  ...         pc_91         pc_92  \\\n",
              "0  2799.219912  1951.977330  2041.857394  ...  20517.973164  23072.031367   \n",
              "1  2348.160682  2414.636280  2798.706138  ...   4178.079326   4564.280930   \n",
              "2  2974.647775  2713.863889  2381.094609  ...  20522.705605  23075.290605   \n",
              "3  2670.367528  2814.751969  2919.311685  ...  20522.544570  23075.227422   \n",
              "4  2818.411074  1542.522104  2246.952313  ...   4223.781546   4615.144614   \n",
              "\n",
              "          pc_93         pc_94         pc_95         pc_96         pc_97  \\\n",
              "0  25918.199746  29130.680234  32741.818105  36776.940391  41337.948828   \n",
              "1   4987.905991   5457.903966   5976.209199   6537.572468   7149.014724   \n",
              "2  25927.208926  29136.474492  32743.575156  36780.525273  41344.256875   \n",
              "3  25928.721426  29137.418496  32742.759414  36779.554531  41344.410508   \n",
              "4   5045.280631   5520.831567   6044.115860   6611.085441   7231.857753   \n",
              "\n",
              "          pc_98         pc_99        pc_100  \n",
              "0  46440.194570  52182.348633  58608.434023  \n",
              "1   7826.130471   8559.884813   9368.567796  \n",
              "2  46461.810508  52207.803164  58651.855859  \n",
              "3  46463.711484  52212.429531  58661.142344  \n",
              "4   7913.697529   8657.308785   9475.725759  \n",
              "\n",
              "[5 rows x 222 columns]"
            ],
            "text/html": [
              "\n",
              "  <div id=\"df-79197732-1278-4d1e-ae45-56aa95a78449\">\n",
              "    <div class=\"colab-df-container\">\n",
              "      <div>\n",
              "<style scoped>\n",
              "    .dataframe tbody tr th:only-of-type {\n",
              "        vertical-align: middle;\n",
              "    }\n",
              "\n",
              "    .dataframe tbody tr th {\n",
              "        vertical-align: top;\n",
              "    }\n",
              "\n",
              "    .dataframe thead th {\n",
              "        text-align: right;\n",
              "    }\n",
              "</style>\n",
              "<table border=\"1\" class=\"dataframe\">\n",
              "  <thead>\n",
              "    <tr style=\"text-align: right;\">\n",
              "      <th></th>\n",
              "      <th>group</th>\n",
              "      <th>sample</th>\n",
              "      <th>depth</th>\n",
              "      <th>por</th>\n",
              "      <th>den</th>\n",
              "      <th>ct_1</th>\n",
              "      <th>ct_2</th>\n",
              "      <th>ct_3</th>\n",
              "      <th>ct_4</th>\n",
              "      <th>ct_5</th>\n",
              "      <th>...</th>\n",
              "      <th>pc_91</th>\n",
              "      <th>pc_92</th>\n",
              "      <th>pc_93</th>\n",
              "      <th>pc_94</th>\n",
              "      <th>pc_95</th>\n",
              "      <th>pc_96</th>\n",
              "      <th>pc_97</th>\n",
              "      <th>pc_98</th>\n",
              "      <th>pc_99</th>\n",
              "      <th>pc_100</th>\n",
              "    </tr>\n",
              "  </thead>\n",
              "  <tbody>\n",
              "    <tr>\n",
              "      <th>0</th>\n",
              "      <td>3</td>\n",
              "      <td>52</td>\n",
              "      <td>1660.178974</td>\n",
              "      <td>18.556209</td>\n",
              "      <td>2.740942</td>\n",
              "      <td>1971.579998</td>\n",
              "      <td>2396.714551</td>\n",
              "      <td>2799.219912</td>\n",
              "      <td>1951.977330</td>\n",
              "      <td>2041.857394</td>\n",
              "      <td>...</td>\n",
              "      <td>20517.973164</td>\n",
              "      <td>23072.031367</td>\n",
              "      <td>25918.199746</td>\n",
              "      <td>29130.680234</td>\n",
              "      <td>32741.818105</td>\n",
              "      <td>36776.940391</td>\n",
              "      <td>41337.948828</td>\n",
              "      <td>46440.194570</td>\n",
              "      <td>52182.348633</td>\n",
              "      <td>58608.434023</td>\n",
              "    </tr>\n",
              "    <tr>\n",
              "      <th>1</th>\n",
              "      <td>4</td>\n",
              "      <td>92</td>\n",
              "      <td>3890.779426</td>\n",
              "      <td>8.555400</td>\n",
              "      <td>2.834776</td>\n",
              "      <td>2513.180531</td>\n",
              "      <td>3001.782975</td>\n",
              "      <td>2348.160682</td>\n",
              "      <td>2414.636280</td>\n",
              "      <td>2798.706138</td>\n",
              "      <td>...</td>\n",
              "      <td>4178.079326</td>\n",
              "      <td>4564.280930</td>\n",
              "      <td>4987.905991</td>\n",
              "      <td>5457.903966</td>\n",
              "      <td>5976.209199</td>\n",
              "      <td>6537.572468</td>\n",
              "      <td>7149.014724</td>\n",
              "      <td>7826.130471</td>\n",
              "      <td>8559.884813</td>\n",
              "      <td>9368.567796</td>\n",
              "    </tr>\n",
              "    <tr>\n",
              "      <th>2</th>\n",
              "      <td>3</td>\n",
              "      <td>90</td>\n",
              "      <td>2287.441253</td>\n",
              "      <td>-0.169935</td>\n",
              "      <td>2.761468</td>\n",
              "      <td>2274.773580</td>\n",
              "      <td>1083.899155</td>\n",
              "      <td>2974.647775</td>\n",
              "      <td>2713.863889</td>\n",
              "      <td>2381.094609</td>\n",
              "      <td>...</td>\n",
              "      <td>20522.705605</td>\n",
              "      <td>23075.290605</td>\n",
              "      <td>25927.208926</td>\n",
              "      <td>29136.474492</td>\n",
              "      <td>32743.575156</td>\n",
              "      <td>36780.525273</td>\n",
              "      <td>41344.256875</td>\n",
              "      <td>46461.810508</td>\n",
              "      <td>52207.803164</td>\n",
              "      <td>58651.855859</td>\n",
              "    </tr>\n",
              "    <tr>\n",
              "      <th>3</th>\n",
              "      <td>3</td>\n",
              "      <td>49</td>\n",
              "      <td>2144.788740</td>\n",
              "      <td>28.192998</td>\n",
              "      <td>2.637605</td>\n",
              "      <td>1776.270868</td>\n",
              "      <td>2374.721334</td>\n",
              "      <td>2670.367528</td>\n",
              "      <td>2814.751969</td>\n",
              "      <td>2919.311685</td>\n",
              "      <td>...</td>\n",
              "      <td>20522.544570</td>\n",
              "      <td>23075.227422</td>\n",
              "      <td>25928.721426</td>\n",
              "      <td>29137.418496</td>\n",
              "      <td>32742.759414</td>\n",
              "      <td>36779.554531</td>\n",
              "      <td>41344.410508</td>\n",
              "      <td>46463.711484</td>\n",
              "      <td>52212.429531</td>\n",
              "      <td>58661.142344</td>\n",
              "    </tr>\n",
              "    <tr>\n",
              "      <th>4</th>\n",
              "      <td>2</td>\n",
              "      <td>65</td>\n",
              "      <td>3754.453151</td>\n",
              "      <td>4.136069</td>\n",
              "      <td>2.900202</td>\n",
              "      <td>1787.771840</td>\n",
              "      <td>1893.016733</td>\n",
              "      <td>2818.411074</td>\n",
              "      <td>1542.522104</td>\n",
              "      <td>2246.952313</td>\n",
              "      <td>...</td>\n",
              "      <td>4223.781546</td>\n",
              "      <td>4615.144614</td>\n",
              "      <td>5045.280631</td>\n",
              "      <td>5520.831567</td>\n",
              "      <td>6044.115860</td>\n",
              "      <td>6611.085441</td>\n",
              "      <td>7231.857753</td>\n",
              "      <td>7913.697529</td>\n",
              "      <td>8657.308785</td>\n",
              "      <td>9475.725759</td>\n",
              "    </tr>\n",
              "  </tbody>\n",
              "</table>\n",
              "<p>5 rows × 222 columns</p>\n",
              "</div>\n",
              "      <button class=\"colab-df-convert\" onclick=\"convertToInteractive('df-79197732-1278-4d1e-ae45-56aa95a78449')\"\n",
              "              title=\"Convert this dataframe to an interactive table.\"\n",
              "              style=\"display:none;\">\n",
              "        \n",
              "  <svg xmlns=\"http://www.w3.org/2000/svg\" height=\"24px\"viewBox=\"0 0 24 24\"\n",
              "       width=\"24px\">\n",
              "    <path d=\"M0 0h24v24H0V0z\" fill=\"none\"/>\n",
              "    <path d=\"M18.56 5.44l.94 2.06.94-2.06 2.06-.94-2.06-.94-.94-2.06-.94 2.06-2.06.94zm-11 1L8.5 8.5l.94-2.06 2.06-.94-2.06-.94L8.5 2.5l-.94 2.06-2.06.94zm10 10l.94 2.06.94-2.06 2.06-.94-2.06-.94-.94-2.06-.94 2.06-2.06.94z\"/><path d=\"M17.41 7.96l-1.37-1.37c-.4-.4-.92-.59-1.43-.59-.52 0-1.04.2-1.43.59L10.3 9.45l-7.72 7.72c-.78.78-.78 2.05 0 2.83L4 21.41c.39.39.9.59 1.41.59.51 0 1.02-.2 1.41-.59l7.78-7.78 2.81-2.81c.8-.78.8-2.07 0-2.86zM5.41 20L4 18.59l7.72-7.72 1.47 1.35L5.41 20z\"/>\n",
              "  </svg>\n",
              "      </button>\n",
              "      \n",
              "  <style>\n",
              "    .colab-df-container {\n",
              "      display:flex;\n",
              "      flex-wrap:wrap;\n",
              "      gap: 12px;\n",
              "    }\n",
              "\n",
              "    .colab-df-convert {\n",
              "      background-color: #E8F0FE;\n",
              "      border: none;\n",
              "      border-radius: 50%;\n",
              "      cursor: pointer;\n",
              "      display: none;\n",
              "      fill: #1967D2;\n",
              "      height: 32px;\n",
              "      padding: 0 0 0 0;\n",
              "      width: 32px;\n",
              "    }\n",
              "\n",
              "    .colab-df-convert:hover {\n",
              "      background-color: #E2EBFA;\n",
              "      box-shadow: 0px 1px 2px rgba(60, 64, 67, 0.3), 0px 1px 3px 1px rgba(60, 64, 67, 0.15);\n",
              "      fill: #174EA6;\n",
              "    }\n",
              "\n",
              "    [theme=dark] .colab-df-convert {\n",
              "      background-color: #3B4455;\n",
              "      fill: #D2E3FC;\n",
              "    }\n",
              "\n",
              "    [theme=dark] .colab-df-convert:hover {\n",
              "      background-color: #434B5C;\n",
              "      box-shadow: 0px 1px 3px 1px rgba(0, 0, 0, 0.15);\n",
              "      filter: drop-shadow(0px 1px 2px rgba(0, 0, 0, 0.3));\n",
              "      fill: #FFFFFF;\n",
              "    }\n",
              "  </style>\n",
              "\n",
              "      <script>\n",
              "        const buttonEl =\n",
              "          document.querySelector('#df-79197732-1278-4d1e-ae45-56aa95a78449 button.colab-df-convert');\n",
              "        buttonEl.style.display =\n",
              "          google.colab.kernel.accessAllowed ? 'block' : 'none';\n",
              "\n",
              "        async function convertToInteractive(key) {\n",
              "          const element = document.querySelector('#df-79197732-1278-4d1e-ae45-56aa95a78449');\n",
              "          const dataTable =\n",
              "            await google.colab.kernel.invokeFunction('convertToInteractive',\n",
              "                                                     [key], {});\n",
              "          if (!dataTable) return;\n",
              "\n",
              "          const docLinkHtml = 'Like what you see? Visit the ' +\n",
              "            '<a target=\"_blank\" href=https://colab.research.google.com/notebooks/data_table.ipynb>data table notebook</a>'\n",
              "            + ' to learn more about interactive tables.';\n",
              "          element.innerHTML = '';\n",
              "          dataTable['output_type'] = 'display_data';\n",
              "          await google.colab.output.renderOutput(dataTable, element);\n",
              "          const docLink = document.createElement('div');\n",
              "          docLink.innerHTML = docLinkHtml;\n",
              "          element.appendChild(docLink);\n",
              "        }\n",
              "      </script>\n",
              "    </div>\n",
              "  </div>\n",
              "  "
            ]
          },
          "metadata": {},
          "execution_count": 7
        }
      ]
    },
    {
      "cell_type": "code",
      "source": [
        "test_data.head()"
      ],
      "metadata": {
        "colab": {
          "base_uri": "https://localhost:8080/",
          "height": 322
        },
        "id": "X8_sgSVcwDeL",
        "outputId": "5dc46f2f-0a92-423f-a0ee-ecd17e4470bf"
      },
      "execution_count": 8,
      "outputs": [
        {
          "output_type": "execute_result",
          "data": {
            "text/plain": [
              "   group  sample        depth        por       den         ct_1         ct_2  \\\n",
              "0      6       0  2541.519832  17.574182  2.721184  2397.858599  2530.129882   \n",
              "1      6       1  2492.499349  15.601646  2.731073  2493.479588  2381.180205   \n",
              "2      6       2  2499.758962   9.799370  2.750291  2353.105272  2557.985901   \n",
              "3      6       3  2484.952580  17.577824  2.644786  2577.886453  2405.878549   \n",
              "4      6       4  2520.922067   7.463433  2.677037  2367.054324  2369.093221   \n",
              "\n",
              "          ct_3         ct_4         ct_5         ct_6         ct_7  \\\n",
              "0  2419.635540  2410.149830  2378.142534  2245.973152  2419.142862   \n",
              "1  2374.025753  2122.706339  2535.031736  1926.894657  2213.529371   \n",
              "2  2173.083377  2302.371534  2270.180822  2546.064601  2379.507012   \n",
              "3  2541.314684  2433.153095  2541.348799  2471.677155  2431.742461   \n",
              "4  2143.892103  2762.000785  2747.865591  2242.994301  2369.544989   \n",
              "\n",
              "   permeability       ntg  thickness_effective      x     y       lithology  \\\n",
              "0      9.686923  0.642302             8.331449  19250  4113       limestone   \n",
              "1     25.113567  0.202864             6.434557  19250  4113  clay sandstone   \n",
              "2     14.627389  0.493521             7.124782  19250  4113  clay sandstone   \n",
              "3      3.387930  0.734310             7.613031  19250  4113       siltstome   \n",
              "4     16.088282  0.753219             7.024979  19250  4113  clay sandstone   \n",
              "\n",
              "          gr      rhob  \n",
              "0  38.502328  2.709270  \n",
              "1  41.279069  2.629994  \n",
              "2  34.065870  2.640400  \n",
              "3  35.681114  2.624468  \n",
              "4  32.158592  2.670718  "
            ],
            "text/html": [
              "\n",
              "  <div id=\"df-68023289-0205-42d5-a7a6-555c48d5fc51\">\n",
              "    <div class=\"colab-df-container\">\n",
              "      <div>\n",
              "<style scoped>\n",
              "    .dataframe tbody tr th:only-of-type {\n",
              "        vertical-align: middle;\n",
              "    }\n",
              "\n",
              "    .dataframe tbody tr th {\n",
              "        vertical-align: top;\n",
              "    }\n",
              "\n",
              "    .dataframe thead th {\n",
              "        text-align: right;\n",
              "    }\n",
              "</style>\n",
              "<table border=\"1\" class=\"dataframe\">\n",
              "  <thead>\n",
              "    <tr style=\"text-align: right;\">\n",
              "      <th></th>\n",
              "      <th>group</th>\n",
              "      <th>sample</th>\n",
              "      <th>depth</th>\n",
              "      <th>por</th>\n",
              "      <th>den</th>\n",
              "      <th>ct_1</th>\n",
              "      <th>ct_2</th>\n",
              "      <th>ct_3</th>\n",
              "      <th>ct_4</th>\n",
              "      <th>ct_5</th>\n",
              "      <th>ct_6</th>\n",
              "      <th>ct_7</th>\n",
              "      <th>permeability</th>\n",
              "      <th>ntg</th>\n",
              "      <th>thickness_effective</th>\n",
              "      <th>x</th>\n",
              "      <th>y</th>\n",
              "      <th>lithology</th>\n",
              "      <th>gr</th>\n",
              "      <th>rhob</th>\n",
              "    </tr>\n",
              "  </thead>\n",
              "  <tbody>\n",
              "    <tr>\n",
              "      <th>0</th>\n",
              "      <td>6</td>\n",
              "      <td>0</td>\n",
              "      <td>2541.519832</td>\n",
              "      <td>17.574182</td>\n",
              "      <td>2.721184</td>\n",
              "      <td>2397.858599</td>\n",
              "      <td>2530.129882</td>\n",
              "      <td>2419.635540</td>\n",
              "      <td>2410.149830</td>\n",
              "      <td>2378.142534</td>\n",
              "      <td>2245.973152</td>\n",
              "      <td>2419.142862</td>\n",
              "      <td>9.686923</td>\n",
              "      <td>0.642302</td>\n",
              "      <td>8.331449</td>\n",
              "      <td>19250</td>\n",
              "      <td>4113</td>\n",
              "      <td>limestone</td>\n",
              "      <td>38.502328</td>\n",
              "      <td>2.709270</td>\n",
              "    </tr>\n",
              "    <tr>\n",
              "      <th>1</th>\n",
              "      <td>6</td>\n",
              "      <td>1</td>\n",
              "      <td>2492.499349</td>\n",
              "      <td>15.601646</td>\n",
              "      <td>2.731073</td>\n",
              "      <td>2493.479588</td>\n",
              "      <td>2381.180205</td>\n",
              "      <td>2374.025753</td>\n",
              "      <td>2122.706339</td>\n",
              "      <td>2535.031736</td>\n",
              "      <td>1926.894657</td>\n",
              "      <td>2213.529371</td>\n",
              "      <td>25.113567</td>\n",
              "      <td>0.202864</td>\n",
              "      <td>6.434557</td>\n",
              "      <td>19250</td>\n",
              "      <td>4113</td>\n",
              "      <td>clay sandstone</td>\n",
              "      <td>41.279069</td>\n",
              "      <td>2.629994</td>\n",
              "    </tr>\n",
              "    <tr>\n",
              "      <th>2</th>\n",
              "      <td>6</td>\n",
              "      <td>2</td>\n",
              "      <td>2499.758962</td>\n",
              "      <td>9.799370</td>\n",
              "      <td>2.750291</td>\n",
              "      <td>2353.105272</td>\n",
              "      <td>2557.985901</td>\n",
              "      <td>2173.083377</td>\n",
              "      <td>2302.371534</td>\n",
              "      <td>2270.180822</td>\n",
              "      <td>2546.064601</td>\n",
              "      <td>2379.507012</td>\n",
              "      <td>14.627389</td>\n",
              "      <td>0.493521</td>\n",
              "      <td>7.124782</td>\n",
              "      <td>19250</td>\n",
              "      <td>4113</td>\n",
              "      <td>clay sandstone</td>\n",
              "      <td>34.065870</td>\n",
              "      <td>2.640400</td>\n",
              "    </tr>\n",
              "    <tr>\n",
              "      <th>3</th>\n",
              "      <td>6</td>\n",
              "      <td>3</td>\n",
              "      <td>2484.952580</td>\n",
              "      <td>17.577824</td>\n",
              "      <td>2.644786</td>\n",
              "      <td>2577.886453</td>\n",
              "      <td>2405.878549</td>\n",
              "      <td>2541.314684</td>\n",
              "      <td>2433.153095</td>\n",
              "      <td>2541.348799</td>\n",
              "      <td>2471.677155</td>\n",
              "      <td>2431.742461</td>\n",
              "      <td>3.387930</td>\n",
              "      <td>0.734310</td>\n",
              "      <td>7.613031</td>\n",
              "      <td>19250</td>\n",
              "      <td>4113</td>\n",
              "      <td>siltstome</td>\n",
              "      <td>35.681114</td>\n",
              "      <td>2.624468</td>\n",
              "    </tr>\n",
              "    <tr>\n",
              "      <th>4</th>\n",
              "      <td>6</td>\n",
              "      <td>4</td>\n",
              "      <td>2520.922067</td>\n",
              "      <td>7.463433</td>\n",
              "      <td>2.677037</td>\n",
              "      <td>2367.054324</td>\n",
              "      <td>2369.093221</td>\n",
              "      <td>2143.892103</td>\n",
              "      <td>2762.000785</td>\n",
              "      <td>2747.865591</td>\n",
              "      <td>2242.994301</td>\n",
              "      <td>2369.544989</td>\n",
              "      <td>16.088282</td>\n",
              "      <td>0.753219</td>\n",
              "      <td>7.024979</td>\n",
              "      <td>19250</td>\n",
              "      <td>4113</td>\n",
              "      <td>clay sandstone</td>\n",
              "      <td>32.158592</td>\n",
              "      <td>2.670718</td>\n",
              "    </tr>\n",
              "  </tbody>\n",
              "</table>\n",
              "</div>\n",
              "      <button class=\"colab-df-convert\" onclick=\"convertToInteractive('df-68023289-0205-42d5-a7a6-555c48d5fc51')\"\n",
              "              title=\"Convert this dataframe to an interactive table.\"\n",
              "              style=\"display:none;\">\n",
              "        \n",
              "  <svg xmlns=\"http://www.w3.org/2000/svg\" height=\"24px\"viewBox=\"0 0 24 24\"\n",
              "       width=\"24px\">\n",
              "    <path d=\"M0 0h24v24H0V0z\" fill=\"none\"/>\n",
              "    <path d=\"M18.56 5.44l.94 2.06.94-2.06 2.06-.94-2.06-.94-.94-2.06-.94 2.06-2.06.94zm-11 1L8.5 8.5l.94-2.06 2.06-.94-2.06-.94L8.5 2.5l-.94 2.06-2.06.94zm10 10l.94 2.06.94-2.06 2.06-.94-2.06-.94-.94-2.06-.94 2.06-2.06.94z\"/><path d=\"M17.41 7.96l-1.37-1.37c-.4-.4-.92-.59-1.43-.59-.52 0-1.04.2-1.43.59L10.3 9.45l-7.72 7.72c-.78.78-.78 2.05 0 2.83L4 21.41c.39.39.9.59 1.41.59.51 0 1.02-.2 1.41-.59l7.78-7.78 2.81-2.81c.8-.78.8-2.07 0-2.86zM5.41 20L4 18.59l7.72-7.72 1.47 1.35L5.41 20z\"/>\n",
              "  </svg>\n",
              "      </button>\n",
              "      \n",
              "  <style>\n",
              "    .colab-df-container {\n",
              "      display:flex;\n",
              "      flex-wrap:wrap;\n",
              "      gap: 12px;\n",
              "    }\n",
              "\n",
              "    .colab-df-convert {\n",
              "      background-color: #E8F0FE;\n",
              "      border: none;\n",
              "      border-radius: 50%;\n",
              "      cursor: pointer;\n",
              "      display: none;\n",
              "      fill: #1967D2;\n",
              "      height: 32px;\n",
              "      padding: 0 0 0 0;\n",
              "      width: 32px;\n",
              "    }\n",
              "\n",
              "    .colab-df-convert:hover {\n",
              "      background-color: #E2EBFA;\n",
              "      box-shadow: 0px 1px 2px rgba(60, 64, 67, 0.3), 0px 1px 3px 1px rgba(60, 64, 67, 0.15);\n",
              "      fill: #174EA6;\n",
              "    }\n",
              "\n",
              "    [theme=dark] .colab-df-convert {\n",
              "      background-color: #3B4455;\n",
              "      fill: #D2E3FC;\n",
              "    }\n",
              "\n",
              "    [theme=dark] .colab-df-convert:hover {\n",
              "      background-color: #434B5C;\n",
              "      box-shadow: 0px 1px 3px 1px rgba(0, 0, 0, 0.15);\n",
              "      filter: drop-shadow(0px 1px 2px rgba(0, 0, 0, 0.3));\n",
              "      fill: #FFFFFF;\n",
              "    }\n",
              "  </style>\n",
              "\n",
              "      <script>\n",
              "        const buttonEl =\n",
              "          document.querySelector('#df-68023289-0205-42d5-a7a6-555c48d5fc51 button.colab-df-convert');\n",
              "        buttonEl.style.display =\n",
              "          google.colab.kernel.accessAllowed ? 'block' : 'none';\n",
              "\n",
              "        async function convertToInteractive(key) {\n",
              "          const element = document.querySelector('#df-68023289-0205-42d5-a7a6-555c48d5fc51');\n",
              "          const dataTable =\n",
              "            await google.colab.kernel.invokeFunction('convertToInteractive',\n",
              "                                                     [key], {});\n",
              "          if (!dataTable) return;\n",
              "\n",
              "          const docLinkHtml = 'Like what you see? Visit the ' +\n",
              "            '<a target=\"_blank\" href=https://colab.research.google.com/notebooks/data_table.ipynb>data table notebook</a>'\n",
              "            + ' to learn more about interactive tables.';\n",
              "          element.innerHTML = '';\n",
              "          dataTable['output_type'] = 'display_data';\n",
              "          await google.colab.output.renderOutput(dataTable, element);\n",
              "          const docLink = document.createElement('div');\n",
              "          docLink.innerHTML = docLinkHtml;\n",
              "          element.appendChild(docLink);\n",
              "        }\n",
              "      </script>\n",
              "    </div>\n",
              "  </div>\n",
              "  "
            ]
          },
          "metadata": {},
          "execution_count": 8
        }
      ]
    },
    {
      "cell_type": "code",
      "source": [
        "print('Non-target variables: ')\n",
        "non_target = set(train_data.columns) & set(test_data.columns)\n",
        "print(sorted(non_target))\n",
        "\n",
        "print('Target variables: ')\n",
        "target = set(train_data.columns) - set(test_data.columns)\n",
        "print(sorted(target))"
      ],
      "metadata": {
        "colab": {
          "base_uri": "https://localhost:8080/"
        },
        "id": "UGcobZ5YwFMb",
        "outputId": "01df82d3-d91c-4b96-c28a-d10e6e8afc59"
      },
      "execution_count": 9,
      "outputs": [
        {
          "output_type": "stream",
          "name": "stdout",
          "text": [
            "Non-target variables: \n",
            "['ct_1', 'ct_2', 'ct_3', 'ct_4', 'ct_5', 'ct_6', 'ct_7', 'den', 'depth', 'gr', 'group', 'lithology', 'ntg', 'permeability', 'por', 'rhob', 'sample', 'thickness_effective', 'x', 'y']\n",
            "Target variables: \n",
            "['bv_0', 'bv_1', 'bv_10', 'bv_100', 'bv_11', 'bv_12', 'bv_13', 'bv_14', 'bv_15', 'bv_16', 'bv_17', 'bv_18', 'bv_19', 'bv_2', 'bv_20', 'bv_21', 'bv_22', 'bv_23', 'bv_24', 'bv_25', 'bv_26', 'bv_27', 'bv_28', 'bv_29', 'bv_3', 'bv_30', 'bv_31', 'bv_32', 'bv_33', 'bv_34', 'bv_35', 'bv_36', 'bv_37', 'bv_38', 'bv_39', 'bv_4', 'bv_40', 'bv_41', 'bv_42', 'bv_43', 'bv_44', 'bv_45', 'bv_46', 'bv_47', 'bv_48', 'bv_49', 'bv_5', 'bv_50', 'bv_51', 'bv_52', 'bv_53', 'bv_54', 'bv_55', 'bv_56', 'bv_57', 'bv_58', 'bv_59', 'bv_6', 'bv_60', 'bv_61', 'bv_62', 'bv_63', 'bv_64', 'bv_65', 'bv_66', 'bv_67', 'bv_68', 'bv_69', 'bv_7', 'bv_70', 'bv_71', 'bv_72', 'bv_73', 'bv_74', 'bv_75', 'bv_76', 'bv_77', 'bv_78', 'bv_79', 'bv_8', 'bv_80', 'bv_81', 'bv_82', 'bv_83', 'bv_84', 'bv_85', 'bv_86', 'bv_87', 'bv_88', 'bv_89', 'bv_9', 'bv_90', 'bv_91', 'bv_92', 'bv_93', 'bv_94', 'bv_95', 'bv_96', 'bv_97', 'bv_98', 'bv_99', 'pc_0', 'pc_1', 'pc_10', 'pc_100', 'pc_11', 'pc_12', 'pc_13', 'pc_14', 'pc_15', 'pc_16', 'pc_17', 'pc_18', 'pc_19', 'pc_2', 'pc_20', 'pc_21', 'pc_22', 'pc_23', 'pc_24', 'pc_25', 'pc_26', 'pc_27', 'pc_28', 'pc_29', 'pc_3', 'pc_30', 'pc_31', 'pc_32', 'pc_33', 'pc_34', 'pc_35', 'pc_36', 'pc_37', 'pc_38', 'pc_39', 'pc_4', 'pc_40', 'pc_41', 'pc_42', 'pc_43', 'pc_44', 'pc_45', 'pc_46', 'pc_47', 'pc_48', 'pc_49', 'pc_5', 'pc_50', 'pc_51', 'pc_52', 'pc_53', 'pc_54', 'pc_55', 'pc_56', 'pc_57', 'pc_58', 'pc_59', 'pc_6', 'pc_60', 'pc_61', 'pc_62', 'pc_63', 'pc_64', 'pc_65', 'pc_66', 'pc_67', 'pc_68', 'pc_69', 'pc_7', 'pc_70', 'pc_71', 'pc_72', 'pc_73', 'pc_74', 'pc_75', 'pc_76', 'pc_77', 'pc_78', 'pc_79', 'pc_8', 'pc_80', 'pc_81', 'pc_82', 'pc_83', 'pc_84', 'pc_85', 'pc_86', 'pc_87', 'pc_88', 'pc_89', 'pc_9', 'pc_90', 'pc_91', 'pc_92', 'pc_93', 'pc_94', 'pc_95', 'pc_96', 'pc_97', 'pc_98', 'pc_99']\n"
          ]
        }
      ]
    },
    {
      "cell_type": "code",
      "source": [
        "train_data_target = train_data[target]\n",
        "train_data_non_target = train_data[non_target]\n",
        "\n",
        "train_data_non_target = train_data_non_target.reindex(sorted(train_data_non_target.columns), axis=1)\n",
        "test_data = test_data.reindex(sorted(test_data.columns), axis=1)"
      ],
      "metadata": {
        "id": "BvRw7EHJwKE3"
      },
      "execution_count": 10,
      "outputs": []
    },
    {
      "cell_type": "code",
      "source": [
        "train_data_non_target.info()"
      ],
      "metadata": {
        "colab": {
          "base_uri": "https://localhost:8080/"
        },
        "id": "TqbTFioVweOc",
        "outputId": "8334ab52-d521-4823-e208-6def2de1329e"
      },
      "execution_count": 11,
      "outputs": [
        {
          "output_type": "stream",
          "name": "stdout",
          "text": [
            "<class 'pandas.core.frame.DataFrame'>\n",
            "RangeIndex: 455 entries, 0 to 454\n",
            "Data columns (total 20 columns):\n",
            " #   Column               Non-Null Count  Dtype  \n",
            "---  ------               --------------  -----  \n",
            " 0   ct_1                 455 non-null    float64\n",
            " 1   ct_2                 455 non-null    float64\n",
            " 2   ct_3                 455 non-null    float64\n",
            " 3   ct_4                 455 non-null    float64\n",
            " 4   ct_5                 455 non-null    float64\n",
            " 5   ct_6                 455 non-null    float64\n",
            " 6   ct_7                 455 non-null    float64\n",
            " 7   den                  455 non-null    float64\n",
            " 8   depth                455 non-null    float64\n",
            " 9   gr                   455 non-null    float64\n",
            " 10  group                455 non-null    int64  \n",
            " 11  lithology            455 non-null    object \n",
            " 12  ntg                  455 non-null    float64\n",
            " 13  permeability         455 non-null    float64\n",
            " 14  por                  455 non-null    float64\n",
            " 15  rhob                 455 non-null    float64\n",
            " 16  sample               455 non-null    int64  \n",
            " 17  thickness_effective  455 non-null    float64\n",
            " 18  x                    455 non-null    int64  \n",
            " 19  y                    455 non-null    int64  \n",
            "dtypes: float64(15), int64(4), object(1)\n",
            "memory usage: 71.2+ KB\n"
          ]
        }
      ]
    },
    {
      "cell_type": "code",
      "source": [
        "train_data_target.info()"
      ],
      "metadata": {
        "colab": {
          "base_uri": "https://localhost:8080/"
        },
        "id": "xXnJRa3wwhex",
        "outputId": "3d06d349-3877-47cc-e6a7-9047dddb6dc7"
      },
      "execution_count": 12,
      "outputs": [
        {
          "output_type": "stream",
          "name": "stdout",
          "text": [
            "<class 'pandas.core.frame.DataFrame'>\n",
            "RangeIndex: 455 entries, 0 to 454\n",
            "Columns: 202 entries, bv_85 to pc_47\n",
            "dtypes: float64(202)\n",
            "memory usage: 718.2 KB\n"
          ]
        }
      ]
    },
    {
      "cell_type": "code",
      "source": [
        "test_data.info()"
      ],
      "metadata": {
        "colab": {
          "base_uri": "https://localhost:8080/"
        },
        "id": "JoUNurz2wjz0",
        "outputId": "b81a6195-3710-4c01-ad50-8f117cbdc456"
      },
      "execution_count": 13,
      "outputs": [
        {
          "output_type": "stream",
          "name": "stdout",
          "text": [
            "<class 'pandas.core.frame.DataFrame'>\n",
            "RangeIndex: 100 entries, 0 to 99\n",
            "Data columns (total 20 columns):\n",
            " #   Column               Non-Null Count  Dtype  \n",
            "---  ------               --------------  -----  \n",
            " 0   ct_1                 100 non-null    float64\n",
            " 1   ct_2                 100 non-null    float64\n",
            " 2   ct_3                 100 non-null    float64\n",
            " 3   ct_4                 100 non-null    float64\n",
            " 4   ct_5                 100 non-null    float64\n",
            " 5   ct_6                 100 non-null    float64\n",
            " 6   ct_7                 100 non-null    float64\n",
            " 7   den                  100 non-null    float64\n",
            " 8   depth                100 non-null    float64\n",
            " 9   gr                   100 non-null    float64\n",
            " 10  group                100 non-null    int64  \n",
            " 11  lithology            100 non-null    object \n",
            " 12  ntg                  100 non-null    float64\n",
            " 13  permeability         100 non-null    float64\n",
            " 14  por                  100 non-null    float64\n",
            " 15  rhob                 100 non-null    float64\n",
            " 16  sample               100 non-null    int64  \n",
            " 17  thickness_effective  100 non-null    float64\n",
            " 18  x                    100 non-null    int64  \n",
            " 19  y                    100 non-null    int64  \n",
            "dtypes: float64(15), int64(4), object(1)\n",
            "memory usage: 15.8+ KB\n"
          ]
        }
      ]
    },
    {
      "cell_type": "code",
      "source": [
        "print('train unqiue: ', sorted(list(train_data_non_target['lithology'].unique())))\n",
        "print('test unique:  ', sorted(list(test_data['lithology'].unique())))"
      ],
      "metadata": {
        "colab": {
          "base_uri": "https://localhost:8080/"
        },
        "id": "i98fz9RiwmJV",
        "outputId": "4d85d05b-8f78-4c28-f1da-1e10ab5d1924"
      },
      "execution_count": 14,
      "outputs": [
        {
          "output_type": "stream",
          "name": "stdout",
          "text": [
            "train unqiue:  ['clay sandstone', 'limestone', 'sandstone', 'shale', 'siltstome']\n",
            "test unique:   ['clay sandstone', 'limestone', 'sandstone', 'siltstome']\n"
          ]
        }
      ]
    },
    {
      "cell_type": "code",
      "source": [
        "label_changing = {'clay sandstone': 1,'limestone': 2,'sandstone': 3,'shale': 4,'siltstome': 5}"
      ],
      "metadata": {
        "id": "fFx7D18wwon6"
      },
      "execution_count": 15,
      "outputs": []
    },
    {
      "cell_type": "code",
      "source": [
        "pd.options.mode.chained_assignment = None\n",
        "\n",
        "def replacing(data):\n",
        "  for i in range(len(data)):\n",
        "    data['lithology'][i] = label_changing[data['lithology'][i]]\n",
        "\n",
        "replacing(train_data_non_target)\n",
        "replacing(test_data)"
      ],
      "metadata": {
        "id": "UnNwjr6owrjh"
      },
      "execution_count": 16,
      "outputs": []
    },
    {
      "cell_type": "code",
      "source": [
        "train_data_non_target['lithology'] = train_data_non_target['lithology'].astype(float)\n",
        "test_data['lithology'] = test_data['lithology'].astype(float)"
      ],
      "metadata": {
        "id": "Awahm2nGxQGP"
      },
      "execution_count": 17,
      "outputs": []
    },
    {
      "cell_type": "markdown",
      "source": [
        "## Overfitting Check"
      ],
      "metadata": {
        "id": "74yAQGPhxcz2"
      }
    },
    {
      "cell_type": "code",
      "source": [
        "xtrain, xtest, ytrain, ytest = train_test_split(train_data_non_target, train_data_target, \n",
        "    test_size=0.3, shuffle = True, random_state = 10)\n",
        "\n",
        "# create a validation set\n",
        "xtrain, xval, ytrain, yval = train_test_split(xtrain, ytrain, \n",
        "    test_size=0.2, random_state= 10) "
      ],
      "metadata": {
        "id": "q_-gW5u-xR1g"
      },
      "execution_count": 18,
      "outputs": []
    },
    {
      "cell_type": "code",
      "source": [
        "lr = LinearRegression()\n",
        "model = MultiOutputRegressor(estimator=lr)\n",
        "\n",
        "model.fit(xtrain, ytrain)\n",
        "\n",
        "ypred_train = model.predict(xval)\n",
        "ypred_test = model.predict(xtest)"
      ],
      "metadata": {
        "id": "xwt3aT4_yp5F"
      },
      "execution_count": 19,
      "outputs": []
    },
    {
      "cell_type": "code",
      "source": [
        "# make a function to evaluate models\n",
        "def multirmse(ytest, ypred):\n",
        "    rmse = []\n",
        "    for prediction in list(ypred.columns):       \n",
        "        MSE = mean_squared_error(np.array(ytest[prediction]), np.array(ypred[prediction]))\n",
        "        RMSE = np.sqrt(MSE)\n",
        "        rmse.append(RMSE)\n",
        "    return rmse\n",
        "\n",
        "def evaluation(ytest, ypred):\n",
        "    res = []\n",
        "\n",
        "    ytest = torch.tensor(ytest.to_numpy())\n",
        "    ypred = torch.tensor(ypred)\n",
        "    r2score = MultioutputWrapper(R2Score(), train_data_target.shape[1])\n",
        "    r2_test = np.array([i.item() for i in r2score(ytest, ypred)])\n",
        "    r2_test = np.nan_to_num(r2_test, nan=0)\n",
        "\n",
        "    rmse = np.array(multirmse(pd.DataFrame(ytest), pd.DataFrame(ypred))).mean()\n",
        "\n",
        "    res.append(round(np.mean(r2_test),2))\n",
        "    res.append(round(mean_absolute_error(ytest, ypred),2))\n",
        "    res.append(round(mean_squared_error(ytest, ypred)))\n",
        "    res.append(round(rmse,2))\n",
        "\n",
        "    return res\n"
      ],
      "metadata": {
        "id": "nRkltEECzOs1"
      },
      "execution_count": 20,
      "outputs": []
    },
    {
      "cell_type": "code",
      "source": [
        "overfitting = dict()\n",
        "\n",
        "overfitting['train'] = evaluation(yval, ypred_train)\n",
        "overfitting['test'] = evaluation(ytest, ypred_test)"
      ],
      "metadata": {
        "id": "0QyAxkef5_sl"
      },
      "execution_count": 21,
      "outputs": []
    },
    {
      "cell_type": "code",
      "source": [
        "metrics = ['R2','MAE','MSE','RMSE']\n",
        "overfitting_stat = pd.DataFrame.from_dict(overfitting, orient='index' ,columns=metrics)"
      ],
      "metadata": {
        "id": "w1VRZVba4sC_"
      },
      "execution_count": 22,
      "outputs": []
    },
    {
      "cell_type": "code",
      "source": [
        "overfitting_stat = overfitting_stat.T"
      ],
      "metadata": {
        "id": "h8848AHII39l"
      },
      "execution_count": 23,
      "outputs": []
    },
    {
      "cell_type": "code",
      "source": [
        "overfitting_stat['Diff(%)'] = round(abs(((overfitting_stat['train']-overfitting_stat['test'])/overfitting_stat['train'])*100),1)"
      ],
      "metadata": {
        "id": "Su-SVAQP8EzF"
      },
      "execution_count": 24,
      "outputs": []
    },
    {
      "cell_type": "code",
      "source": [
        "# Conclusion: The problem of overfitting is not likely to affect the model.\n",
        "overfitting_stat"
      ],
      "metadata": {
        "colab": {
          "base_uri": "https://localhost:8080/",
          "height": 175
        },
        "id": "GbHULBvf9ED2",
        "outputId": "866890f3-5004-4bfa-a04f-1d3284d116ab"
      },
      "execution_count": 25,
      "outputs": [
        {
          "output_type": "execute_result",
          "data": {
            "text/plain": [
              "          train       test  Diff(%)\n",
              "R2         0.73       0.75      2.7\n",
              "MAE       92.80     103.54     11.6\n",
              "MSE   265027.00  299050.00     12.8\n",
              "RMSE     146.57     154.88      5.7"
            ],
            "text/html": [
              "\n",
              "  <div id=\"df-7b9680db-3cab-4dd5-9a78-c9c6ee4fafba\">\n",
              "    <div class=\"colab-df-container\">\n",
              "      <div>\n",
              "<style scoped>\n",
              "    .dataframe tbody tr th:only-of-type {\n",
              "        vertical-align: middle;\n",
              "    }\n",
              "\n",
              "    .dataframe tbody tr th {\n",
              "        vertical-align: top;\n",
              "    }\n",
              "\n",
              "    .dataframe thead th {\n",
              "        text-align: right;\n",
              "    }\n",
              "</style>\n",
              "<table border=\"1\" class=\"dataframe\">\n",
              "  <thead>\n",
              "    <tr style=\"text-align: right;\">\n",
              "      <th></th>\n",
              "      <th>train</th>\n",
              "      <th>test</th>\n",
              "      <th>Diff(%)</th>\n",
              "    </tr>\n",
              "  </thead>\n",
              "  <tbody>\n",
              "    <tr>\n",
              "      <th>R2</th>\n",
              "      <td>0.73</td>\n",
              "      <td>0.75</td>\n",
              "      <td>2.7</td>\n",
              "    </tr>\n",
              "    <tr>\n",
              "      <th>MAE</th>\n",
              "      <td>92.80</td>\n",
              "      <td>103.54</td>\n",
              "      <td>11.6</td>\n",
              "    </tr>\n",
              "    <tr>\n",
              "      <th>MSE</th>\n",
              "      <td>265027.00</td>\n",
              "      <td>299050.00</td>\n",
              "      <td>12.8</td>\n",
              "    </tr>\n",
              "    <tr>\n",
              "      <th>RMSE</th>\n",
              "      <td>146.57</td>\n",
              "      <td>154.88</td>\n",
              "      <td>5.7</td>\n",
              "    </tr>\n",
              "  </tbody>\n",
              "</table>\n",
              "</div>\n",
              "      <button class=\"colab-df-convert\" onclick=\"convertToInteractive('df-7b9680db-3cab-4dd5-9a78-c9c6ee4fafba')\"\n",
              "              title=\"Convert this dataframe to an interactive table.\"\n",
              "              style=\"display:none;\">\n",
              "        \n",
              "  <svg xmlns=\"http://www.w3.org/2000/svg\" height=\"24px\"viewBox=\"0 0 24 24\"\n",
              "       width=\"24px\">\n",
              "    <path d=\"M0 0h24v24H0V0z\" fill=\"none\"/>\n",
              "    <path d=\"M18.56 5.44l.94 2.06.94-2.06 2.06-.94-2.06-.94-.94-2.06-.94 2.06-2.06.94zm-11 1L8.5 8.5l.94-2.06 2.06-.94-2.06-.94L8.5 2.5l-.94 2.06-2.06.94zm10 10l.94 2.06.94-2.06 2.06-.94-2.06-.94-.94-2.06-.94 2.06-2.06.94z\"/><path d=\"M17.41 7.96l-1.37-1.37c-.4-.4-.92-.59-1.43-.59-.52 0-1.04.2-1.43.59L10.3 9.45l-7.72 7.72c-.78.78-.78 2.05 0 2.83L4 21.41c.39.39.9.59 1.41.59.51 0 1.02-.2 1.41-.59l7.78-7.78 2.81-2.81c.8-.78.8-2.07 0-2.86zM5.41 20L4 18.59l7.72-7.72 1.47 1.35L5.41 20z\"/>\n",
              "  </svg>\n",
              "      </button>\n",
              "      \n",
              "  <style>\n",
              "    .colab-df-container {\n",
              "      display:flex;\n",
              "      flex-wrap:wrap;\n",
              "      gap: 12px;\n",
              "    }\n",
              "\n",
              "    .colab-df-convert {\n",
              "      background-color: #E8F0FE;\n",
              "      border: none;\n",
              "      border-radius: 50%;\n",
              "      cursor: pointer;\n",
              "      display: none;\n",
              "      fill: #1967D2;\n",
              "      height: 32px;\n",
              "      padding: 0 0 0 0;\n",
              "      width: 32px;\n",
              "    }\n",
              "\n",
              "    .colab-df-convert:hover {\n",
              "      background-color: #E2EBFA;\n",
              "      box-shadow: 0px 1px 2px rgba(60, 64, 67, 0.3), 0px 1px 3px 1px rgba(60, 64, 67, 0.15);\n",
              "      fill: #174EA6;\n",
              "    }\n",
              "\n",
              "    [theme=dark] .colab-df-convert {\n",
              "      background-color: #3B4455;\n",
              "      fill: #D2E3FC;\n",
              "    }\n",
              "\n",
              "    [theme=dark] .colab-df-convert:hover {\n",
              "      background-color: #434B5C;\n",
              "      box-shadow: 0px 1px 3px 1px rgba(0, 0, 0, 0.15);\n",
              "      filter: drop-shadow(0px 1px 2px rgba(0, 0, 0, 0.3));\n",
              "      fill: #FFFFFF;\n",
              "    }\n",
              "  </style>\n",
              "\n",
              "      <script>\n",
              "        const buttonEl =\n",
              "          document.querySelector('#df-7b9680db-3cab-4dd5-9a78-c9c6ee4fafba button.colab-df-convert');\n",
              "        buttonEl.style.display =\n",
              "          google.colab.kernel.accessAllowed ? 'block' : 'none';\n",
              "\n",
              "        async function convertToInteractive(key) {\n",
              "          const element = document.querySelector('#df-7b9680db-3cab-4dd5-9a78-c9c6ee4fafba');\n",
              "          const dataTable =\n",
              "            await google.colab.kernel.invokeFunction('convertToInteractive',\n",
              "                                                     [key], {});\n",
              "          if (!dataTable) return;\n",
              "\n",
              "          const docLinkHtml = 'Like what you see? Visit the ' +\n",
              "            '<a target=\"_blank\" href=https://colab.research.google.com/notebooks/data_table.ipynb>data table notebook</a>'\n",
              "            + ' to learn more about interactive tables.';\n",
              "          element.innerHTML = '';\n",
              "          dataTable['output_type'] = 'display_data';\n",
              "          await google.colab.output.renderOutput(dataTable, element);\n",
              "          const docLink = document.createElement('div');\n",
              "          docLink.innerHTML = docLinkHtml;\n",
              "          element.appendChild(docLink);\n",
              "        }\n",
              "      </script>\n",
              "    </div>\n",
              "  </div>\n",
              "  "
            ]
          },
          "metadata": {},
          "execution_count": 25
        }
      ]
    },
    {
      "cell_type": "markdown",
      "source": [
        "## Feature Selection"
      ],
      "metadata": {
        "id": "xBwNlyIYLMCq"
      }
    },
    {
      "cell_type": "code",
      "source": [
        "train_data_non_target.hist(figsize=(20,14), bins=20)\n",
        "plt.show()"
      ],
      "metadata": {
        "colab": {
          "base_uri": "https://localhost:8080/",
          "height": 688
        },
        "id": "O_TdrTJeLkaN",
        "outputId": "dd6d4272-afa8-48f1-ffc9-03f59693af45"
      },
      "execution_count": 26,
      "outputs": [
        {
          "output_type": "display_data",
          "data": {
            "text/plain": [
              "<Figure size 1440x1008 with 20 Axes>"
            ],
            "image/png": "[encoded data removed]"
          },
          "metadata": {
            "needs_background": "light"
          }
        }
      ]
    },
    {
      "cell_type": "code",
      "source": [
        "train_data_non_target = train_data_non_target.drop(columns=['ct_1','ct_2', 'ct_3', 'ct_4', 'ct_5', 'ct_6', 'ct_7'])"
      ],
      "metadata": {
        "id": "VWldcHz7Lp2S"
      },
      "execution_count": 27,
      "outputs": []
    },
    {
      "cell_type": "markdown",
      "source": [
        "## Linear Regression"
      ],
      "metadata": {
        "id": "uSQPqceLL56w"
      }
    },
    {
      "cell_type": "code",
      "source": [
        "xtrain, xtest, ytrain, ytest_lr = train_test_split(train_data_non_target, train_data_target, \n",
        "                                                   test_size=0.3, random_state=40)\n",
        "\n",
        "scaler = MinMaxScaler()\n",
        "xtrain = scaler.fit_transform(xtrain)\n",
        "xtest = scaler.transform(xtest)\n",
        "\n",
        "lr = LinearRegression()\n",
        "model = MultiOutputRegressor(estimator=lr)\n",
        "\n",
        "model.fit(xtrain, ytrain)\n",
        "ypred_lr = model.predict(xtest)"
      ],
      "metadata": {
        "id": "DAT4m-p8LxuW"
      },
      "execution_count": 28,
      "outputs": []
    },
    {
      "cell_type": "code",
      "source": [
        "# Test results of the improved linear regression model:\n",
        "ilr = pd.DataFrame(evaluation(ytest_lr, ypred_lr),index=metrics, columns=['Improved LR'])\n",
        "print(ilr,'\\n')\n",
        "\n",
        "# Сompare this improved LR model with the test part of the previous basic LR model. \n",
        "compare = pd.concat([overfitting_stat['test'], ilr], join='inner',axis=1) \n",
        "compare.rename(columns={'test':'Basic LR','ilr':'Improved LR'})"
      ],
      "metadata": {
        "colab": {
          "base_uri": "https://localhost:8080/",
          "height": 279
        },
        "id": "u6Sh4rPpTym3",
        "outputId": "3db984c6-cf09-4256-905b-c8b93cc25214"
      },
      "execution_count": 29,
      "outputs": [
        {
          "output_type": "stream",
          "name": "stdout",
          "text": [
            "      Improved LR\n",
            "R2           0.77\n",
            "MAE         84.22\n",
            "MSE     187924.00\n",
            "RMSE       122.82 \n",
            "\n"
          ]
        },
        {
          "output_type": "execute_result",
          "data": {
            "text/plain": [
              "       Basic LR  Improved LR\n",
              "R2         0.75         0.77\n",
              "MAE      103.54        84.22\n",
              "MSE   299050.00    187924.00\n",
              "RMSE     154.88       122.82"
            ],
            "text/html": [
              "\n",
              "  <div id=\"df-d7d2f518-3f4a-4d00-8f58-bab119068a92\">\n",
              "    <div class=\"colab-df-container\">\n",
              "      <div>\n",
              "<style scoped>\n",
              "    .dataframe tbody tr th:only-of-type {\n",
              "        vertical-align: middle;\n",
              "    }\n",
              "\n",
              "    .dataframe tbody tr th {\n",
              "        vertical-align: top;\n",
              "    }\n",
              "\n",
              "    .dataframe thead th {\n",
              "        text-align: right;\n",
              "    }\n",
              "</style>\n",
              "<table border=\"1\" class=\"dataframe\">\n",
              "  <thead>\n",
              "    <tr style=\"text-align: right;\">\n",
              "      <th></th>\n",
              "      <th>Basic LR</th>\n",
              "      <th>Improved LR</th>\n",
              "    </tr>\n",
              "  </thead>\n",
              "  <tbody>\n",
              "    <tr>\n",
              "      <th>R2</th>\n",
              "      <td>0.75</td>\n",
              "      <td>0.77</td>\n",
              "    </tr>\n",
              "    <tr>\n",
              "      <th>MAE</th>\n",
              "      <td>103.54</td>\n",
              "      <td>84.22</td>\n",
              "    </tr>\n",
              "    <tr>\n",
              "      <th>MSE</th>\n",
              "      <td>299050.00</td>\n",
              "      <td>187924.00</td>\n",
              "    </tr>\n",
              "    <tr>\n",
              "      <th>RMSE</th>\n",
              "      <td>154.88</td>\n",
              "      <td>122.82</td>\n",
              "    </tr>\n",
              "  </tbody>\n",
              "</table>\n",
              "</div>\n",
              "      <button class=\"colab-df-convert\" onclick=\"convertToInteractive('df-d7d2f518-3f4a-4d00-8f58-bab119068a92')\"\n",
              "              title=\"Convert this dataframe to an interactive table.\"\n",
              "              style=\"display:none;\">\n",
              "        \n",
              "  <svg xmlns=\"http://www.w3.org/2000/svg\" height=\"24px\"viewBox=\"0 0 24 24\"\n",
              "       width=\"24px\">\n",
              "    <path d=\"M0 0h24v24H0V0z\" fill=\"none\"/>\n",
              "    <path d=\"M18.56 5.44l.94 2.06.94-2.06 2.06-.94-2.06-.94-.94-2.06-.94 2.06-2.06.94zm-11 1L8.5 8.5l.94-2.06 2.06-.94-2.06-.94L8.5 2.5l-.94 2.06-2.06.94zm10 10l.94 2.06.94-2.06 2.06-.94-2.06-.94-.94-2.06-.94 2.06-2.06.94z\"/><path d=\"M17.41 7.96l-1.37-1.37c-.4-.4-.92-.59-1.43-.59-.52 0-1.04.2-1.43.59L10.3 9.45l-7.72 7.72c-.78.78-.78 2.05 0 2.83L4 21.41c.39.39.9.59 1.41.59.51 0 1.02-.2 1.41-.59l7.78-7.78 2.81-2.81c.8-.78.8-2.07 0-2.86zM5.41 20L4 18.59l7.72-7.72 1.47 1.35L5.41 20z\"/>\n",
              "  </svg>\n",
              "      </button>\n",
              "      \n",
              "  <style>\n",
              "    .colab-df-container {\n",
              "      display:flex;\n",
              "      flex-wrap:wrap;\n",
              "      gap: 12px;\n",
              "    }\n",
              "\n",
              "    .colab-df-convert {\n",
              "      background-color: #E8F0FE;\n",
              "      border: none;\n",
              "      border-radius: 50%;\n",
              "      cursor: pointer;\n",
              "      display: none;\n",
              "      fill: #1967D2;\n",
              "      height: 32px;\n",
              "      padding: 0 0 0 0;\n",
              "      width: 32px;\n",
              "    }\n",
              "\n",
              "    .colab-df-convert:hover {\n",
              "      background-color: #E2EBFA;\n",
              "      box-shadow: 0px 1px 2px rgba(60, 64, 67, 0.3), 0px 1px 3px 1px rgba(60, 64, 67, 0.15);\n",
              "      fill: #174EA6;\n",
              "    }\n",
              "\n",
              "    [theme=dark] .colab-df-convert {\n",
              "      background-color: #3B4455;\n",
              "      fill: #D2E3FC;\n",
              "    }\n",
              "\n",
              "    [theme=dark] .colab-df-convert:hover {\n",
              "      background-color: #434B5C;\n",
              "      box-shadow: 0px 1px 3px 1px rgba(0, 0, 0, 0.15);\n",
              "      filter: drop-shadow(0px 1px 2px rgba(0, 0, 0, 0.3));\n",
              "      fill: #FFFFFF;\n",
              "    }\n",
              "  </style>\n",
              "\n",
              "      <script>\n",
              "        const buttonEl =\n",
              "          document.querySelector('#df-d7d2f518-3f4a-4d00-8f58-bab119068a92 button.colab-df-convert');\n",
              "        buttonEl.style.display =\n",
              "          google.colab.kernel.accessAllowed ? 'block' : 'none';\n",
              "\n",
              "        async function convertToInteractive(key) {\n",
              "          const element = document.querySelector('#df-d7d2f518-3f4a-4d00-8f58-bab119068a92');\n",
              "          const dataTable =\n",
              "            await google.colab.kernel.invokeFunction('convertToInteractive',\n",
              "                                                     [key], {});\n",
              "          if (!dataTable) return;\n",
              "\n",
              "          const docLinkHtml = 'Like what you see? Visit the ' +\n",
              "            '<a target=\"_blank\" href=https://colab.research.google.com/notebooks/data_table.ipynb>data table notebook</a>'\n",
              "            + ' to learn more about interactive tables.';\n",
              "          element.innerHTML = '';\n",
              "          dataTable['output_type'] = 'display_data';\n",
              "          await google.colab.output.renderOutput(dataTable, element);\n",
              "          const docLink = document.createElement('div');\n",
              "          docLink.innerHTML = docLinkHtml;\n",
              "          element.appendChild(docLink);\n",
              "        }\n",
              "      </script>\n",
              "    </div>\n",
              "  </div>\n",
              "  "
            ]
          },
          "metadata": {},
          "execution_count": 29
        }
      ]
    },
    {
      "cell_type": "markdown",
      "source": [
        "## K-Nearest Neighbors "
      ],
      "metadata": {
        "id": "UsuTdmIUak4q"
      }
    },
    {
      "cell_type": "code",
      "source": [
        "xtrain, xtest, ytrain, ytest_knn = train_test_split(train_data_non_target, train_data_target, \n",
        "                                                   test_size=0.3, random_state= 40)\n",
        "\n",
        "scaler = StandardScaler()\n",
        "xtrain = scaler.fit_transform(xtrain)\n",
        "xtest = scaler.transform(xtest)\n",
        "\n",
        "knn = KNeighborsRegressor(n_neighbors=5)\n",
        "\n",
        "knn.fit(xtrain, ytrain)\n",
        "ypred_knn = knn.predict(xtest)"
      ],
      "metadata": {
        "id": "JVojp4JnVMAQ"
      },
      "execution_count": 30,
      "outputs": []
    },
    {
      "cell_type": "code",
      "source": [
        "# Test results of the knn model:\n",
        "iknn = pd.DataFrame(evaluation(ytest_knn, ypred_knn),index=metrics, columns=['KNN'])\n",
        "iknn"
      ],
      "metadata": {
        "colab": {
          "base_uri": "https://localhost:8080/",
          "height": 175
        },
        "id": "3NV-VPVYdkgN",
        "outputId": "6eafbd27-2999-4112-ed78-b814067bc838"
      },
      "execution_count": 31,
      "outputs": [
        {
          "output_type": "execute_result",
          "data": {
            "text/plain": [
              "          KNN\n",
              "R2       0.69\n",
              "MAE      6.86\n",
              "MSE   1057.00\n",
              "RMSE    12.52"
            ],
            "text/html": [
              "\n",
              "  <div id=\"df-d0821fea-831d-46d9-86f8-02e61a0cc7e1\">\n",
              "    <div class=\"colab-df-container\">\n",
              "      <div>\n",
              "<style scoped>\n",
              "    .dataframe tbody tr th:only-of-type {\n",
              "        vertical-align: middle;\n",
              "    }\n",
              "\n",
              "    .dataframe tbody tr th {\n",
              "        vertical-align: top;\n",
              "    }\n",
              "\n",
              "    .dataframe thead th {\n",
              "        text-align: right;\n",
              "    }\n",
              "</style>\n",
              "<table border=\"1\" class=\"dataframe\">\n",
              "  <thead>\n",
              "    <tr style=\"text-align: right;\">\n",
              "      <th></th>\n",
              "      <th>KNN</th>\n",
              "    </tr>\n",
              "  </thead>\n",
              "  <tbody>\n",
              "    <tr>\n",
              "      <th>R2</th>\n",
              "      <td>0.69</td>\n",
              "    </tr>\n",
              "    <tr>\n",
              "      <th>MAE</th>\n",
              "      <td>6.86</td>\n",
              "    </tr>\n",
              "    <tr>\n",
              "      <th>MSE</th>\n",
              "      <td>1057.00</td>\n",
              "    </tr>\n",
              "    <tr>\n",
              "      <th>RMSE</th>\n",
              "      <td>12.52</td>\n",
              "    </tr>\n",
              "  </tbody>\n",
              "</table>\n",
              "</div>\n",
              "      <button class=\"colab-df-convert\" onclick=\"convertToInteractive('df-d0821fea-831d-46d9-86f8-02e61a0cc7e1')\"\n",
              "              title=\"Convert this dataframe to an interactive table.\"\n",
              "              style=\"display:none;\">\n",
              "        \n",
              "  <svg xmlns=\"http://www.w3.org/2000/svg\" height=\"24px\"viewBox=\"0 0 24 24\"\n",
              "       width=\"24px\">\n",
              "    <path d=\"M0 0h24v24H0V0z\" fill=\"none\"/>\n",
              "    <path d=\"M18.56 5.44l.94 2.06.94-2.06 2.06-.94-2.06-.94-.94-2.06-.94 2.06-2.06.94zm-11 1L8.5 8.5l.94-2.06 2.06-.94-2.06-.94L8.5 2.5l-.94 2.06-2.06.94zm10 10l.94 2.06.94-2.06 2.06-.94-2.06-.94-.94-2.06-.94 2.06-2.06.94z\"/><path d=\"M17.41 7.96l-1.37-1.37c-.4-.4-.92-.59-1.43-.59-.52 0-1.04.2-1.43.59L10.3 9.45l-7.72 7.72c-.78.78-.78 2.05 0 2.83L4 21.41c.39.39.9.59 1.41.59.51 0 1.02-.2 1.41-.59l7.78-7.78 2.81-2.81c.8-.78.8-2.07 0-2.86zM5.41 20L4 18.59l7.72-7.72 1.47 1.35L5.41 20z\"/>\n",
              "  </svg>\n",
              "      </button>\n",
              "      \n",
              "  <style>\n",
              "    .colab-df-container {\n",
              "      display:flex;\n",
              "      flex-wrap:wrap;\n",
              "      gap: 12px;\n",
              "    }\n",
              "\n",
              "    .colab-df-convert {\n",
              "      background-color: #E8F0FE;\n",
              "      border: none;\n",
              "      border-radius: 50%;\n",
              "      cursor: pointer;\n",
              "      display: none;\n",
              "      fill: #1967D2;\n",
              "      height: 32px;\n",
              "      padding: 0 0 0 0;\n",
              "      width: 32px;\n",
              "    }\n",
              "\n",
              "    .colab-df-convert:hover {\n",
              "      background-color: #E2EBFA;\n",
              "      box-shadow: 0px 1px 2px rgba(60, 64, 67, 0.3), 0px 1px 3px 1px rgba(60, 64, 67, 0.15);\n",
              "      fill: #174EA6;\n",
              "    }\n",
              "\n",
              "    [theme=dark] .colab-df-convert {\n",
              "      background-color: #3B4455;\n",
              "      fill: #D2E3FC;\n",
              "    }\n",
              "\n",
              "    [theme=dark] .colab-df-convert:hover {\n",
              "      background-color: #434B5C;\n",
              "      box-shadow: 0px 1px 3px 1px rgba(0, 0, 0, 0.15);\n",
              "      filter: drop-shadow(0px 1px 2px rgba(0, 0, 0, 0.3));\n",
              "      fill: #FFFFFF;\n",
              "    }\n",
              "  </style>\n",
              "\n",
              "      <script>\n",
              "        const buttonEl =\n",
              "          document.querySelector('#df-d0821fea-831d-46d9-86f8-02e61a0cc7e1 button.colab-df-convert');\n",
              "        buttonEl.style.display =\n",
              "          google.colab.kernel.accessAllowed ? 'block' : 'none';\n",
              "\n",
              "        async function convertToInteractive(key) {\n",
              "          const element = document.querySelector('#df-d0821fea-831d-46d9-86f8-02e61a0cc7e1');\n",
              "          const dataTable =\n",
              "            await google.colab.kernel.invokeFunction('convertToInteractive',\n",
              "                                                     [key], {});\n",
              "          if (!dataTable) return;\n",
              "\n",
              "          const docLinkHtml = 'Like what you see? Visit the ' +\n",
              "            '<a target=\"_blank\" href=https://colab.research.google.com/notebooks/data_table.ipynb>data table notebook</a>'\n",
              "            + ' to learn more about interactive tables.';\n",
              "          element.innerHTML = '';\n",
              "          dataTable['output_type'] = 'display_data';\n",
              "          await google.colab.output.renderOutput(dataTable, element);\n",
              "          const docLink = document.createElement('div');\n",
              "          docLink.innerHTML = docLinkHtml;\n",
              "          element.appendChild(docLink);\n",
              "        }\n",
              "      </script>\n",
              "    </div>\n",
              "  </div>\n",
              "  "
            ]
          },
          "metadata": {},
          "execution_count": 31
        }
      ]
    },
    {
      "cell_type": "markdown",
      "source": [
        "## Decision Tree"
      ],
      "metadata": {
        "id": "KX-WEPUUf35E"
      }
    },
    {
      "cell_type": "code",
      "source": [
        "xtrain, xtest, ytrain, ytest_dt = train_test_split(train_data_non_target, train_data_target, \n",
        "                                                   test_size=0.3, random_state=20)\n",
        "\n",
        "scaler = MinMaxScaler()\n",
        "xtrain = scaler.fit_transform(xtrain)\n",
        "xtest = scaler.transform(xtest)\n",
        "\n",
        "dt = DecisionTreeRegressor(max_depth=3)\n",
        "\n",
        "dt.fit(xtrain, ytrain)\n",
        "ypred_dt = dt.predict(xtest)"
      ],
      "metadata": {
        "id": "sMEsCLnfeqAV"
      },
      "execution_count": 32,
      "outputs": []
    },
    {
      "cell_type": "code",
      "source": [
        "# Test results of the decision tree model:\n",
        "idt = pd.DataFrame(evaluation(ytest_dt, ypred_dt),index=metrics, columns=['DT'])\n",
        "idt"
      ],
      "metadata": {
        "colab": {
          "base_uri": "https://localhost:8080/",
          "height": 175
        },
        "id": "VVnYX2dqiJxN",
        "outputId": "52a6255c-cfe4-4ea0-f195-25fc2cda677d"
      },
      "execution_count": 33,
      "outputs": [
        {
          "output_type": "execute_result",
          "data": {
            "text/plain": [
              "           DT\n",
              "R2       0.67\n",
              "MAE      8.01\n",
              "MSE   1645.00\n",
              "RMSE    15.10"
            ],
            "text/html": [
              "\n",
              "  <div id=\"df-acae0fee-763b-4ec5-ac33-97ad0408f497\">\n",
              "    <div class=\"colab-df-container\">\n",
              "      <div>\n",
              "<style scoped>\n",
              "    .dataframe tbody tr th:only-of-type {\n",
              "        vertical-align: middle;\n",
              "    }\n",
              "\n",
              "    .dataframe tbody tr th {\n",
              "        vertical-align: top;\n",
              "    }\n",
              "\n",
              "    .dataframe thead th {\n",
              "        text-align: right;\n",
              "    }\n",
              "</style>\n",
              "<table border=\"1\" class=\"dataframe\">\n",
              "  <thead>\n",
              "    <tr style=\"text-align: right;\">\n",
              "      <th></th>\n",
              "      <th>DT</th>\n",
              "    </tr>\n",
              "  </thead>\n",
              "  <tbody>\n",
              "    <tr>\n",
              "      <th>R2</th>\n",
              "      <td>0.67</td>\n",
              "    </tr>\n",
              "    <tr>\n",
              "      <th>MAE</th>\n",
              "      <td>8.01</td>\n",
              "    </tr>\n",
              "    <tr>\n",
              "      <th>MSE</th>\n",
              "      <td>1645.00</td>\n",
              "    </tr>\n",
              "    <tr>\n",
              "      <th>RMSE</th>\n",
              "      <td>15.10</td>\n",
              "    </tr>\n",
              "  </tbody>\n",
              "</table>\n",
              "</div>\n",
              "      <button class=\"colab-df-convert\" onclick=\"convertToInteractive('df-acae0fee-763b-4ec5-ac33-97ad0408f497')\"\n",
              "              title=\"Convert this dataframe to an interactive table.\"\n",
              "              style=\"display:none;\">\n",
              "        \n",
              "  <svg xmlns=\"http://www.w3.org/2000/svg\" height=\"24px\"viewBox=\"0 0 24 24\"\n",
              "       width=\"24px\">\n",
              "    <path d=\"M0 0h24v24H0V0z\" fill=\"none\"/>\n",
              "    <path d=\"M18.56 5.44l.94 2.06.94-2.06 2.06-.94-2.06-.94-.94-2.06-.94 2.06-2.06.94zm-11 1L8.5 8.5l.94-2.06 2.06-.94-2.06-.94L8.5 2.5l-.94 2.06-2.06.94zm10 10l.94 2.06.94-2.06 2.06-.94-2.06-.94-.94-2.06-.94 2.06-2.06.94z\"/><path d=\"M17.41 7.96l-1.37-1.37c-.4-.4-.92-.59-1.43-.59-.52 0-1.04.2-1.43.59L10.3 9.45l-7.72 7.72c-.78.78-.78 2.05 0 2.83L4 21.41c.39.39.9.59 1.41.59.51 0 1.02-.2 1.41-.59l7.78-7.78 2.81-2.81c.8-.78.8-2.07 0-2.86zM5.41 20L4 18.59l7.72-7.72 1.47 1.35L5.41 20z\"/>\n",
              "  </svg>\n",
              "      </button>\n",
              "      \n",
              "  <style>\n",
              "    .colab-df-container {\n",
              "      display:flex;\n",
              "      flex-wrap:wrap;\n",
              "      gap: 12px;\n",
              "    }\n",
              "\n",
              "    .colab-df-convert {\n",
              "      background-color: #E8F0FE;\n",
              "      border: none;\n",
              "      border-radius: 50%;\n",
              "      cursor: pointer;\n",
              "      display: none;\n",
              "      fill: #1967D2;\n",
              "      height: 32px;\n",
              "      padding: 0 0 0 0;\n",
              "      width: 32px;\n",
              "    }\n",
              "\n",
              "    .colab-df-convert:hover {\n",
              "      background-color: #E2EBFA;\n",
              "      box-shadow: 0px 1px 2px rgba(60, 64, 67, 0.3), 0px 1px 3px 1px rgba(60, 64, 67, 0.15);\n",
              "      fill: #174EA6;\n",
              "    }\n",
              "\n",
              "    [theme=dark] .colab-df-convert {\n",
              "      background-color: #3B4455;\n",
              "      fill: #D2E3FC;\n",
              "    }\n",
              "\n",
              "    [theme=dark] .colab-df-convert:hover {\n",
              "      background-color: #434B5C;\n",
              "      box-shadow: 0px 1px 3px 1px rgba(0, 0, 0, 0.15);\n",
              "      filter: drop-shadow(0px 1px 2px rgba(0, 0, 0, 0.3));\n",
              "      fill: #FFFFFF;\n",
              "    }\n",
              "  </style>\n",
              "\n",
              "      <script>\n",
              "        const buttonEl =\n",
              "          document.querySelector('#df-acae0fee-763b-4ec5-ac33-97ad0408f497 button.colab-df-convert');\n",
              "        buttonEl.style.display =\n",
              "          google.colab.kernel.accessAllowed ? 'block' : 'none';\n",
              "\n",
              "        async function convertToInteractive(key) {\n",
              "          const element = document.querySelector('#df-acae0fee-763b-4ec5-ac33-97ad0408f497');\n",
              "          const dataTable =\n",
              "            await google.colab.kernel.invokeFunction('convertToInteractive',\n",
              "                                                     [key], {});\n",
              "          if (!dataTable) return;\n",
              "\n",
              "          const docLinkHtml = 'Like what you see? Visit the ' +\n",
              "            '<a target=\"_blank\" href=https://colab.research.google.com/notebooks/data_table.ipynb>data table notebook</a>'\n",
              "            + ' to learn more about interactive tables.';\n",
              "          element.innerHTML = '';\n",
              "          dataTable['output_type'] = 'display_data';\n",
              "          await google.colab.output.renderOutput(dataTable, element);\n",
              "          const docLink = document.createElement('div');\n",
              "          docLink.innerHTML = docLinkHtml;\n",
              "          element.appendChild(docLink);\n",
              "        }\n",
              "      </script>\n",
              "    </div>\n",
              "  </div>\n",
              "  "
            ]
          },
          "metadata": {},
          "execution_count": 33
        }
      ]
    },
    {
      "cell_type": "markdown",
      "source": [
        "## Catboost"
      ],
      "metadata": {
        "id": "oZMi9BClmGNU"
      }
    },
    {
      "cell_type": "code",
      "source": [
        "xtrain, xtest, ytrain, ytest_cb = train_test_split(train_data_non_target, train_data_target, \n",
        "                                                   test_size=0.3, random_state=20)\n",
        "\n",
        "scaler = StandardScaler()\n",
        "xtrain = scaler.fit_transform(xtrain)\n",
        "xtest = scaler.transform(xtest)\n",
        "\n",
        "cb = CatBoostRegressor(iterations=100, learning_rate=1)\n",
        "cb = MultiOutputRegressor(estimator=cb)\n",
        "\n",
        "cb.fit(xtrain, ytrain, verbose=False)\n",
        "ypred_cb = cb.predict(xtest)"
      ],
      "metadata": {
        "id": "zUHRCjwwiaJd"
      },
      "execution_count": 34,
      "outputs": []
    },
    {
      "cell_type": "code",
      "source": [
        "# Test results of the catboost model:\n",
        "icb = pd.DataFrame(evaluation(ytest_cb, ypred_cb),index=metrics, columns=['CB'])\n",
        "icb"
      ],
      "metadata": {
        "colab": {
          "base_uri": "https://localhost:8080/",
          "height": 175
        },
        "id": "sadohF5ood2I",
        "outputId": "c9bc14b9-a158-45be-e9a2-21606f3df71f"
      },
      "execution_count": 35,
      "outputs": [
        {
          "output_type": "execute_result",
          "data": {
            "text/plain": [
              "             CB\n",
              "R2         0.80\n",
              "MAE       73.96\n",
              "MSE   201481.00\n",
              "RMSE     127.08"
            ],
            "text/html": [
              "\n",
              "  <div id=\"df-8a4c45b7-5163-4237-8382-30383c8850d2\">\n",
              "    <div class=\"colab-df-container\">\n",
              "      <div>\n",
              "<style scoped>\n",
              "    .dataframe tbody tr th:only-of-type {\n",
              "        vertical-align: middle;\n",
              "    }\n",
              "\n",
              "    .dataframe tbody tr th {\n",
              "        vertical-align: top;\n",
              "    }\n",
              "\n",
              "    .dataframe thead th {\n",
              "        text-align: right;\n",
              "    }\n",
              "</style>\n",
              "<table border=\"1\" class=\"dataframe\">\n",
              "  <thead>\n",
              "    <tr style=\"text-align: right;\">\n",
              "      <th></th>\n",
              "      <th>CB</th>\n",
              "    </tr>\n",
              "  </thead>\n",
              "  <tbody>\n",
              "    <tr>\n",
              "      <th>R2</th>\n",
              "      <td>0.80</td>\n",
              "    </tr>\n",
              "    <tr>\n",
              "      <th>MAE</th>\n",
              "      <td>73.96</td>\n",
              "    </tr>\n",
              "    <tr>\n",
              "      <th>MSE</th>\n",
              "      <td>201481.00</td>\n",
              "    </tr>\n",
              "    <tr>\n",
              "      <th>RMSE</th>\n",
              "      <td>127.08</td>\n",
              "    </tr>\n",
              "  </tbody>\n",
              "</table>\n",
              "</div>\n",
              "      <button class=\"colab-df-convert\" onclick=\"convertToInteractive('df-8a4c45b7-5163-4237-8382-30383c8850d2')\"\n",
              "              title=\"Convert this dataframe to an interactive table.\"\n",
              "              style=\"display:none;\">\n",
              "        \n",
              "  <svg xmlns=\"http://www.w3.org/2000/svg\" height=\"24px\"viewBox=\"0 0 24 24\"\n",
              "       width=\"24px\">\n",
              "    <path d=\"M0 0h24v24H0V0z\" fill=\"none\"/>\n",
              "    <path d=\"M18.56 5.44l.94 2.06.94-2.06 2.06-.94-2.06-.94-.94-2.06-.94 2.06-2.06.94zm-11 1L8.5 8.5l.94-2.06 2.06-.94-2.06-.94L8.5 2.5l-.94 2.06-2.06.94zm10 10l.94 2.06.94-2.06 2.06-.94-2.06-.94-.94-2.06-.94 2.06-2.06.94z\"/><path d=\"M17.41 7.96l-1.37-1.37c-.4-.4-.92-.59-1.43-.59-.52 0-1.04.2-1.43.59L10.3 9.45l-7.72 7.72c-.78.78-.78 2.05 0 2.83L4 21.41c.39.39.9.59 1.41.59.51 0 1.02-.2 1.41-.59l7.78-7.78 2.81-2.81c.8-.78.8-2.07 0-2.86zM5.41 20L4 18.59l7.72-7.72 1.47 1.35L5.41 20z\"/>\n",
              "  </svg>\n",
              "      </button>\n",
              "      \n",
              "  <style>\n",
              "    .colab-df-container {\n",
              "      display:flex;\n",
              "      flex-wrap:wrap;\n",
              "      gap: 12px;\n",
              "    }\n",
              "\n",
              "    .colab-df-convert {\n",
              "      background-color: #E8F0FE;\n",
              "      border: none;\n",
              "      border-radius: 50%;\n",
              "      cursor: pointer;\n",
              "      display: none;\n",
              "      fill: #1967D2;\n",
              "      height: 32px;\n",
              "      padding: 0 0 0 0;\n",
              "      width: 32px;\n",
              "    }\n",
              "\n",
              "    .colab-df-convert:hover {\n",
              "      background-color: #E2EBFA;\n",
              "      box-shadow: 0px 1px 2px rgba(60, 64, 67, 0.3), 0px 1px 3px 1px rgba(60, 64, 67, 0.15);\n",
              "      fill: #174EA6;\n",
              "    }\n",
              "\n",
              "    [theme=dark] .colab-df-convert {\n",
              "      background-color: #3B4455;\n",
              "      fill: #D2E3FC;\n",
              "    }\n",
              "\n",
              "    [theme=dark] .colab-df-convert:hover {\n",
              "      background-color: #434B5C;\n",
              "      box-shadow: 0px 1px 3px 1px rgba(0, 0, 0, 0.15);\n",
              "      filter: drop-shadow(0px 1px 2px rgba(0, 0, 0, 0.3));\n",
              "      fill: #FFFFFF;\n",
              "    }\n",
              "  </style>\n",
              "\n",
              "      <script>\n",
              "        const buttonEl =\n",
              "          document.querySelector('#df-8a4c45b7-5163-4237-8382-30383c8850d2 button.colab-df-convert');\n",
              "        buttonEl.style.display =\n",
              "          google.colab.kernel.accessAllowed ? 'block' : 'none';\n",
              "\n",
              "        async function convertToInteractive(key) {\n",
              "          const element = document.querySelector('#df-8a4c45b7-5163-4237-8382-30383c8850d2');\n",
              "          const dataTable =\n",
              "            await google.colab.kernel.invokeFunction('convertToInteractive',\n",
              "                                                     [key], {});\n",
              "          if (!dataTable) return;\n",
              "\n",
              "          const docLinkHtml = 'Like what you see? Visit the ' +\n",
              "            '<a target=\"_blank\" href=https://colab.research.google.com/notebooks/data_table.ipynb>data table notebook</a>'\n",
              "            + ' to learn more about interactive tables.';\n",
              "          element.innerHTML = '';\n",
              "          dataTable['output_type'] = 'display_data';\n",
              "          await google.colab.output.renderOutput(dataTable, element);\n",
              "          const docLink = document.createElement('div');\n",
              "          docLink.innerHTML = docLinkHtml;\n",
              "          element.appendChild(docLink);\n",
              "        }\n",
              "      </script>\n",
              "    </div>\n",
              "  </div>\n",
              "  "
            ]
          },
          "metadata": {},
          "execution_count": 35
        }
      ]
    },
    {
      "cell_type": "markdown",
      "source": [
        "## Visualizing results"
      ],
      "metadata": {
        "id": "fdcpzzE9rg8a"
      }
    },
    {
      "cell_type": "code",
      "source": [
        "fig = plt.figure()\n",
        "plt.style.use('seaborn-whitegrid')\n",
        "\n",
        "def cp_model_comparison(metric):\n",
        "  model_comparison = pd.DataFrame({'model': ['Linear Regression', \n",
        "                                           'K-Nearest Neighbors',\n",
        "                                           'Decision Tree', \n",
        "                                           'Gradient Boosting'] ,\n",
        "                                 metric : [ilr.T[metric].item(), iknn.T[metric].item(),\n",
        "                                        idt.T[metric].item(), icb.T[metric].item()]\n",
        "                                 })\n",
        "  model_comparison = model_comparison.sort_values(metric)\n",
        "  model_comparison.plot(x = 'model', \n",
        "                         y = metric, \n",
        "                         kind = 'barh',\n",
        "                         color = 'grey', \n",
        "                         edgecolor = 'black')\n",
        "  \n",
        "  plt.ylabel('') \n",
        "  plt.yticks(size = 14)\n",
        "  plt.xlabel(metric)\n",
        "  plt.xticks(size = 11)\n",
        "  plt.title(f'Model Comparison on Test {metric}', size = 20)\n",
        "  plt.show()\n",
        "\n",
        "cp_model_comparison('R2')\n",
        "print()\n",
        "cp_model_comparison('MAE')\n",
        "print()\n",
        "cp_model_comparison('MSE')\n",
        "print()\n",
        "cp_model_comparison('RMSE')\n"
      ],
      "metadata": {
        "colab": {
          "base_uri": "https://localhost:8080/",
          "height": 1000
        },
        "id": "pDAkEF0wpBHD",
        "outputId": "8d2a11ca-8b97-43c3-b855-5436ab5286dc"
      },
      "execution_count": 36,
      "outputs": [
        {
          "output_type": "display_data",
          "data": {
            "text/plain": [
              "<Figure size 432x288 with 0 Axes>"
            ]
          },
          "metadata": {}
        },
        {
          "output_type": "display_data",
          "data": {
            "text/plain": [
              "<Figure size 432x288 with 1 Axes>"
            ],
            "image/png": "[encoded data removed]"
          },
          "metadata": {}
        },
        {
          "output_type": "stream",
          "name": "stdout",
          "text": [
            "\n"
          ]
        },
        {
          "output_type": "display_data",
          "data": {
            "text/plain": [
              "<Figure size 432x288 with 1 Axes>"
            ],
            "image/png": "[encoded data removed]"
          },
          "metadata": {}
        },
        {
          "output_type": "stream",
          "name": "stdout",
          "text": [
            "\n"
          ]
        },
        {
          "output_type": "display_data",
          "data": {
            "text/plain": [
              "<Figure size 432x288 with 1 Axes>"
            ],
            "image/png": "[encoded data removed]"
          },
          "metadata": {}
        },
        {
          "output_type": "stream",
          "name": "stdout",
          "text": [
            "\n"
          ]
        },
        {
          "output_type": "display_data",
          "data": {
            "text/plain": [
              "<Figure size 432x288 with 1 Axes>"
            ],
            "image/png": "[encoded data removed]"
          },
          "metadata": {}
        }
      ]
    },
    {
      "cell_type": "markdown",
      "source": [
        "## Best Model"
      ],
      "metadata": {
        "id": "K7ag8rGt1kiz"
      }
    },
    {
      "cell_type": "code",
      "source": [
        "lr_info = [ilr.T['R2'].item(), ilr.T['MAE'].item(), ilr.T['MSE'].item(), ilr.T['RMSE'].item()]\n",
        "knn_info = [iknn.T['R2'].item(), iknn.T['MAE'].item(), iknn.T['MSE'].item(), iknn.T['RMSE'].item()]\n",
        "dt_info = [idt.T['R2'].item(), idt.T['MAE'].item(), idt.T['MSE'].item(), idt.T['RMSE'].item()]\n",
        "cb_info = [icb.T['R2'].item(), icb.T['MAE'].item(), icb.T['MSE'].item(), icb.T['RMSE'].item()]"
      ],
      "metadata": {
        "id": "KJuQM28-t3ZJ"
      },
      "execution_count": 37,
      "outputs": []
    },
    {
      "cell_type": "code",
      "source": [
        "stat = {'Linear Regression':lr_info, 'K-Nearest Neighbors':knn_info,\n",
        "        'Decision Tree':dt_info, 'Catboost':cb_info}"
      ],
      "metadata": {
        "id": "D6Ye3tzH2EBb"
      },
      "execution_count": 38,
      "outputs": []
    },
    {
      "cell_type": "code",
      "source": [
        "stat = sorted(stat.items(), key=lambda x: (-1*x[1][1], -1*x[1][2], x[1][0], -1*x[1][3]), reverse=True)"
      ],
      "metadata": {
        "id": "C-SUahgm6lfT"
      },
      "execution_count": 39,
      "outputs": []
    },
    {
      "cell_type": "code",
      "source": [
        "stat = pd.DataFrame(dict(stat)).T"
      ],
      "metadata": {
        "id": "jdpOdvf_3xjS"
      },
      "execution_count": 40,
      "outputs": []
    },
    {
      "cell_type": "code",
      "source": [
        "stat.rename({0:metrics[0],1:metrics[1],2:metrics[2],3:metrics[3]}, axis='columns', inplace=True)\n",
        "\n",
        "stat['top'] = np.array([i+1 for i in range(4)])\n",
        "col = stat.pop('top')\n",
        "stat.insert(0, col.name, col)\n"
      ],
      "metadata": {
        "id": "d3s12X1E6PF1"
      },
      "execution_count": 41,
      "outputs": []
    },
    {
      "cell_type": "code",
      "source": [
        "# Different algorithms are good in some metrics, but bad in others. \n",
        "# We will consider KNN to be the best model because of the smallest MAE and MSE.\n",
        "stat"
      ],
      "metadata": {
        "colab": {
          "base_uri": "https://localhost:8080/",
          "height": 175
        },
        "id": "M-Gn9QMZIMRc",
        "outputId": "0fdd90d8-58e0-47ec-cec0-31b30cc83493"
      },
      "execution_count": 42,
      "outputs": [
        {
          "output_type": "execute_result",
          "data": {
            "text/plain": [
              "                     top    R2    MAE       MSE    RMSE\n",
              "K-Nearest Neighbors    1  0.69   6.86    1057.0   12.52\n",
              "Decision Tree          2  0.67   8.01    1645.0   15.10\n",
              "Catboost               3  0.80  73.96  201481.0  127.08\n",
              "Linear Regression      4  0.77  84.22  187924.0  122.82"
            ],
            "text/html": [
              "\n",
              "  <div id=\"df-61341b87-4d83-407c-a9bc-52af14e28b78\">\n",
              "    <div class=\"colab-df-container\">\n",
              "      <div>\n",
              "<style scoped>\n",
              "    .dataframe tbody tr th:only-of-type {\n",
              "        vertical-align: middle;\n",
              "    }\n",
              "\n",
              "    .dataframe tbody tr th {\n",
              "        vertical-align: top;\n",
              "    }\n",
              "\n",
              "    .dataframe thead th {\n",
              "        text-align: right;\n",
              "    }\n",
              "</style>\n",
              "<table border=\"1\" class=\"dataframe\">\n",
              "  <thead>\n",
              "    <tr style=\"text-align: right;\">\n",
              "      <th></th>\n",
              "      <th>top</th>\n",
              "      <th>R2</th>\n",
              "      <th>MAE</th>\n",
              "      <th>MSE</th>\n",
              "      <th>RMSE</th>\n",
              "    </tr>\n",
              "  </thead>\n",
              "  <tbody>\n",
              "    <tr>\n",
              "      <th>K-Nearest Neighbors</th>\n",
              "      <td>1</td>\n",
              "      <td>0.69</td>\n",
              "      <td>6.86</td>\n",
              "      <td>1057.0</td>\n",
              "      <td>12.52</td>\n",
              "    </tr>\n",
              "    <tr>\n",
              "      <th>Decision Tree</th>\n",
              "      <td>2</td>\n",
              "      <td>0.67</td>\n",
              "      <td>8.01</td>\n",
              "      <td>1645.0</td>\n",
              "      <td>15.10</td>\n",
              "    </tr>\n",
              "    <tr>\n",
              "      <th>Catboost</th>\n",
              "      <td>3</td>\n",
              "      <td>0.80</td>\n",
              "      <td>73.96</td>\n",
              "      <td>201481.0</td>\n",
              "      <td>127.08</td>\n",
              "    </tr>\n",
              "    <tr>\n",
              "      <th>Linear Regression</th>\n",
              "      <td>4</td>\n",
              "      <td>0.77</td>\n",
              "      <td>84.22</td>\n",
              "      <td>187924.0</td>\n",
              "      <td>122.82</td>\n",
              "    </tr>\n",
              "  </tbody>\n",
              "</table>\n",
              "</div>\n",
              "      <button class=\"colab-df-convert\" onclick=\"convertToInteractive('df-61341b87-4d83-407c-a9bc-52af14e28b78')\"\n",
              "              title=\"Convert this dataframe to an interactive table.\"\n",
              "              style=\"display:none;\">\n",
              "        \n",
              "  <svg xmlns=\"http://www.w3.org/2000/svg\" height=\"24px\"viewBox=\"0 0 24 24\"\n",
              "       width=\"24px\">\n",
              "    <path d=\"M0 0h24v24H0V0z\" fill=\"none\"/>\n",
              "    <path d=\"M18.56 5.44l.94 2.06.94-2.06 2.06-.94-2.06-.94-.94-2.06-.94 2.06-2.06.94zm-11 1L8.5 8.5l.94-2.06 2.06-.94-2.06-.94L8.5 2.5l-.94 2.06-2.06.94zm10 10l.94 2.06.94-2.06 2.06-.94-2.06-.94-.94-2.06-.94 2.06-2.06.94z\"/><path d=\"M17.41 7.96l-1.37-1.37c-.4-.4-.92-.59-1.43-.59-.52 0-1.04.2-1.43.59L10.3 9.45l-7.72 7.72c-.78.78-.78 2.05 0 2.83L4 21.41c.39.39.9.59 1.41.59.51 0 1.02-.2 1.41-.59l7.78-7.78 2.81-2.81c.8-.78.8-2.07 0-2.86zM5.41 20L4 18.59l7.72-7.72 1.47 1.35L5.41 20z\"/>\n",
              "  </svg>\n",
              "      </button>\n",
              "      \n",
              "  <style>\n",
              "    .colab-df-container {\n",
              "      display:flex;\n",
              "      flex-wrap:wrap;\n",
              "      gap: 12px;\n",
              "    }\n",
              "\n",
              "    .colab-df-convert {\n",
              "      background-color: #E8F0FE;\n",
              "      border: none;\n",
              "      border-radius: 50%;\n",
              "      cursor: pointer;\n",
              "      display: none;\n",
              "      fill: #1967D2;\n",
              "      height: 32px;\n",
              "      padding: 0 0 0 0;\n",
              "      width: 32px;\n",
              "    }\n",
              "\n",
              "    .colab-df-convert:hover {\n",
              "      background-color: #E2EBFA;\n",
              "      box-shadow: 0px 1px 2px rgba(60, 64, 67, 0.3), 0px 1px 3px 1px rgba(60, 64, 67, 0.15);\n",
              "      fill: #174EA6;\n",
              "    }\n",
              "\n",
              "    [theme=dark] .colab-df-convert {\n",
              "      background-color: #3B4455;\n",
              "      fill: #D2E3FC;\n",
              "    }\n",
              "\n",
              "    [theme=dark] .colab-df-convert:hover {\n",
              "      background-color: #434B5C;\n",
              "      box-shadow: 0px 1px 3px 1px rgba(0, 0, 0, 0.15);\n",
              "      filter: drop-shadow(0px 1px 2px rgba(0, 0, 0, 0.3));\n",
              "      fill: #FFFFFF;\n",
              "    }\n",
              "  </style>\n",
              "\n",
              "      <script>\n",
              "        const buttonEl =\n",
              "          document.querySelector('#df-61341b87-4d83-407c-a9bc-52af14e28b78 button.colab-df-convert');\n",
              "        buttonEl.style.display =\n",
              "          google.colab.kernel.accessAllowed ? 'block' : 'none';\n",
              "\n",
              "        async function convertToInteractive(key) {\n",
              "          const element = document.querySelector('#df-61341b87-4d83-407c-a9bc-52af14e28b78');\n",
              "          const dataTable =\n",
              "            await google.colab.kernel.invokeFunction('convertToInteractive',\n",
              "                                                     [key], {});\n",
              "          if (!dataTable) return;\n",
              "\n",
              "          const docLinkHtml = 'Like what you see? Visit the ' +\n",
              "            '<a target=\"_blank\" href=https://colab.research.google.com/notebooks/data_table.ipynb>data table notebook</a>'\n",
              "            + ' to learn more about interactive tables.';\n",
              "          element.innerHTML = '';\n",
              "          dataTable['output_type'] = 'display_data';\n",
              "          await google.colab.output.renderOutput(dataTable, element);\n",
              "          const docLink = document.createElement('div');\n",
              "          docLink.innerHTML = docLinkHtml;\n",
              "          element.appendChild(docLink);\n",
              "        }\n",
              "      </script>\n",
              "    </div>\n",
              "  </div>\n",
              "  "
            ]
          },
          "metadata": {},
          "execution_count": 42
        }
      ]
    },
    {
      "cell_type": "markdown",
      "source": [
        "## Submitting"
      ],
      "metadata": {
        "id": "oNdStQKHJOWB"
      }
    },
    {
      "cell_type": "code",
      "source": [
        "test_data = test_data.drop(columns=['ct_1', 'ct_2', 'ct_3', 'ct_4', 'ct_5', 'ct_6', 'ct_7'])\n",
        "final_pred = knn.predict(np.array(test_data))"
      ],
      "metadata": {
        "id": "DNtSaMmDINap"
      },
      "execution_count": 43,
      "outputs": []
    },
    {
      "cell_type": "code",
      "source": [
        "result = pd.DataFrame(final_pred)\n",
        "\n",
        "d_change = {}\n",
        "for i in range(train_data_target.shape[1]):\n",
        "  d_change[i] = (train_data_target.columns)[i]\n",
        "\n",
        "result.rename(columns=d_change, inplace=True)\n",
        "result.to_csv('submit.csv', index=None)"
      ],
      "metadata": {
        "id": "LxCEHHdFJz3Y"
      },
      "execution_count": 44,
      "outputs": []
    }
  ]
}